{
  "nbformat": 4,
  "nbformat_minor": 0,
  "metadata": {
    "colab": {
      "provenance": []
    },
    "kernelspec": {
      "name": "python3",
      "display_name": "Python 3"
    },
    "language_info": {
      "name": "python"
    }
  },
  "cells": [
    {
      "cell_type": "markdown",
      "source": [
        "**\"Sales Analytics: Exploring Online Retail Patterns for Business Growth\"**\n",
        "*   Deepali kumari(AP22122040007)\n",
        "*   Shrishti Shiva(AP22122040009)\n",
        "\n"
      ],
      "metadata": {
        "id": "YZjCf49MvDi7"
      }
    },
    {
      "cell_type": "code",
      "source": [
        "import warnings\n",
        "warnings.filterwarnings(\"ignore\")"
      ],
      "metadata": {
        "id": "OK-nJO5m3uaq"
      },
      "execution_count": null,
      "outputs": []
    },
    {
      "cell_type": "code",
      "execution_count": null,
      "metadata": {
        "id": "znRGLOAzi8WB"
      },
      "outputs": [],
      "source": [
        "import pandas as pd\n",
        "from datetime import datetime, timedelta\n",
        "import matplotlib.pyplot as plt\n",
        "import numpy as np\n",
        "import seaborn as sns\n"
      ]
    },
    {
      "cell_type": "code",
      "source": [
        "df = pd.read_csv('/content/OnlineRetail.csv', encoding='latin1', error_bad_lines=False)\n"
      ],
      "metadata": {
        "colab": {
          "base_uri": "https://localhost:8080/"
        },
        "id": "ceOn7PYY1-M6",
        "outputId": "8157bbea-aef3-449c-9664-4ba91d1b5045"
      },
      "execution_count": null,
      "outputs": [
        {
          "output_type": "stream",
          "name": "stderr",
          "text": [
            "Skipping line 25102: expected 8 fields, saw 13\n",
            "Skipping line 62504: expected 8 fields, saw 9\n",
            "\n",
            "Skipping line 75140: expected 8 fields, saw 11\n",
            "Skipping line 112887: expected 8 fields, saw 11\n",
            "\n"
          ]
        }
      ]
    },
    {
      "cell_type": "code",
      "source": [
        "df.head()"
      ],
      "metadata": {
        "colab": {
          "base_uri": "https://localhost:8080/",
          "height": 206
        },
        "id": "Cp2poOPi2aYh",
        "outputId": "bb880bb1-402a-444e-f920-337c68732bf9"
      },
      "execution_count": null,
      "outputs": [
        {
          "output_type": "execute_result",
          "data": {
            "text/plain": [
              "  InvoiceNo StockCode                          Description Quantity  \\\n",
              "0    536365    85123A   WHITE HANGING HEART T-LIGHT HOLDER        6   \n",
              "1    536365     71053                  WHITE METAL LANTERN        6   \n",
              "2    536365    84406B       CREAM CUPID HEARTS COAT HANGER        8   \n",
              "3    536365    84029G  KNITTED UNION FLAG HOT WATER BOTTLE        6   \n",
              "4    536365    84029E       RED WOOLLY HOTTIE WHITE HEART.        6   \n",
              "\n",
              "      InvoiceDate UnitPrice CustomerID         Country  \n",
              "0  12/1/2010 8:26      2.55    17850.0  United Kingdom  \n",
              "1  12/1/2010 8:26      3.39    17850.0  United Kingdom  \n",
              "2  12/1/2010 8:26      2.75    17850.0  United Kingdom  \n",
              "3  12/1/2010 8:26      3.39    17850.0  United Kingdom  \n",
              "4  12/1/2010 8:26      3.39    17850.0  United Kingdom  "
            ],
            "text/html": [
              "\n",
              "  <div id=\"df-41a700e1-39e0-469a-8c42-fc5e8c3324f3\">\n",
              "    <div class=\"colab-df-container\">\n",
              "      <div>\n",
              "<style scoped>\n",
              "    .dataframe tbody tr th:only-of-type {\n",
              "        vertical-align: middle;\n",
              "    }\n",
              "\n",
              "    .dataframe tbody tr th {\n",
              "        vertical-align: top;\n",
              "    }\n",
              "\n",
              "    .dataframe thead th {\n",
              "        text-align: right;\n",
              "    }\n",
              "</style>\n",
              "<table border=\"1\" class=\"dataframe\">\n",
              "  <thead>\n",
              "    <tr style=\"text-align: right;\">\n",
              "      <th></th>\n",
              "      <th>InvoiceNo</th>\n",
              "      <th>StockCode</th>\n",
              "      <th>Description</th>\n",
              "      <th>Quantity</th>\n",
              "      <th>InvoiceDate</th>\n",
              "      <th>UnitPrice</th>\n",
              "      <th>CustomerID</th>\n",
              "      <th>Country</th>\n",
              "    </tr>\n",
              "  </thead>\n",
              "  <tbody>\n",
              "    <tr>\n",
              "      <th>0</th>\n",
              "      <td>536365</td>\n",
              "      <td>85123A</td>\n",
              "      <td>WHITE HANGING HEART T-LIGHT HOLDER</td>\n",
              "      <td>6</td>\n",
              "      <td>12/1/2010 8:26</td>\n",
              "      <td>2.55</td>\n",
              "      <td>17850.0</td>\n",
              "      <td>United Kingdom</td>\n",
              "    </tr>\n",
              "    <tr>\n",
              "      <th>1</th>\n",
              "      <td>536365</td>\n",
              "      <td>71053</td>\n",
              "      <td>WHITE METAL LANTERN</td>\n",
              "      <td>6</td>\n",
              "      <td>12/1/2010 8:26</td>\n",
              "      <td>3.39</td>\n",
              "      <td>17850.0</td>\n",
              "      <td>United Kingdom</td>\n",
              "    </tr>\n",
              "    <tr>\n",
              "      <th>2</th>\n",
              "      <td>536365</td>\n",
              "      <td>84406B</td>\n",
              "      <td>CREAM CUPID HEARTS COAT HANGER</td>\n",
              "      <td>8</td>\n",
              "      <td>12/1/2010 8:26</td>\n",
              "      <td>2.75</td>\n",
              "      <td>17850.0</td>\n",
              "      <td>United Kingdom</td>\n",
              "    </tr>\n",
              "    <tr>\n",
              "      <th>3</th>\n",
              "      <td>536365</td>\n",
              "      <td>84029G</td>\n",
              "      <td>KNITTED UNION FLAG HOT WATER BOTTLE</td>\n",
              "      <td>6</td>\n",
              "      <td>12/1/2010 8:26</td>\n",
              "      <td>3.39</td>\n",
              "      <td>17850.0</td>\n",
              "      <td>United Kingdom</td>\n",
              "    </tr>\n",
              "    <tr>\n",
              "      <th>4</th>\n",
              "      <td>536365</td>\n",
              "      <td>84029E</td>\n",
              "      <td>RED WOOLLY HOTTIE WHITE HEART.</td>\n",
              "      <td>6</td>\n",
              "      <td>12/1/2010 8:26</td>\n",
              "      <td>3.39</td>\n",
              "      <td>17850.0</td>\n",
              "      <td>United Kingdom</td>\n",
              "    </tr>\n",
              "  </tbody>\n",
              "</table>\n",
              "</div>\n",
              "      <button class=\"colab-df-convert\" onclick=\"convertToInteractive('df-41a700e1-39e0-469a-8c42-fc5e8c3324f3')\"\n",
              "              title=\"Convert this dataframe to an interactive table.\"\n",
              "              style=\"display:none;\">\n",
              "        \n",
              "  <svg xmlns=\"http://www.w3.org/2000/svg\" height=\"24px\"viewBox=\"0 0 24 24\"\n",
              "       width=\"24px\">\n",
              "    <path d=\"M0 0h24v24H0V0z\" fill=\"none\"/>\n",
              "    <path d=\"M18.56 5.44l.94 2.06.94-2.06 2.06-.94-2.06-.94-.94-2.06-.94 2.06-2.06.94zm-11 1L8.5 8.5l.94-2.06 2.06-.94-2.06-.94L8.5 2.5l-.94 2.06-2.06.94zm10 10l.94 2.06.94-2.06 2.06-.94-2.06-.94-.94-2.06-.94 2.06-2.06.94z\"/><path d=\"M17.41 7.96l-1.37-1.37c-.4-.4-.92-.59-1.43-.59-.52 0-1.04.2-1.43.59L10.3 9.45l-7.72 7.72c-.78.78-.78 2.05 0 2.83L4 21.41c.39.39.9.59 1.41.59.51 0 1.02-.2 1.41-.59l7.78-7.78 2.81-2.81c.8-.78.8-2.07 0-2.86zM5.41 20L4 18.59l7.72-7.72 1.47 1.35L5.41 20z\"/>\n",
              "  </svg>\n",
              "      </button>\n",
              "      \n",
              "  <style>\n",
              "    .colab-df-container {\n",
              "      display:flex;\n",
              "      flex-wrap:wrap;\n",
              "      gap: 12px;\n",
              "    }\n",
              "\n",
              "    .colab-df-convert {\n",
              "      background-color: #E8F0FE;\n",
              "      border: none;\n",
              "      border-radius: 50%;\n",
              "      cursor: pointer;\n",
              "      display: none;\n",
              "      fill: #1967D2;\n",
              "      height: 32px;\n",
              "      padding: 0 0 0 0;\n",
              "      width: 32px;\n",
              "    }\n",
              "\n",
              "    .colab-df-convert:hover {\n",
              "      background-color: #E2EBFA;\n",
              "      box-shadow: 0px 1px 2px rgba(60, 64, 67, 0.3), 0px 1px 3px 1px rgba(60, 64, 67, 0.15);\n",
              "      fill: #174EA6;\n",
              "    }\n",
              "\n",
              "    [theme=dark] .colab-df-convert {\n",
              "      background-color: #3B4455;\n",
              "      fill: #D2E3FC;\n",
              "    }\n",
              "\n",
              "    [theme=dark] .colab-df-convert:hover {\n",
              "      background-color: #434B5C;\n",
              "      box-shadow: 0px 1px 3px 1px rgba(0, 0, 0, 0.15);\n",
              "      filter: drop-shadow(0px 1px 2px rgba(0, 0, 0, 0.3));\n",
              "      fill: #FFFFFF;\n",
              "    }\n",
              "  </style>\n",
              "\n",
              "      <script>\n",
              "        const buttonEl =\n",
              "          document.querySelector('#df-41a700e1-39e0-469a-8c42-fc5e8c3324f3 button.colab-df-convert');\n",
              "        buttonEl.style.display =\n",
              "          google.colab.kernel.accessAllowed ? 'block' : 'none';\n",
              "\n",
              "        async function convertToInteractive(key) {\n",
              "          const element = document.querySelector('#df-41a700e1-39e0-469a-8c42-fc5e8c3324f3');\n",
              "          const dataTable =\n",
              "            await google.colab.kernel.invokeFunction('convertToInteractive',\n",
              "                                                     [key], {});\n",
              "          if (!dataTable) return;\n",
              "\n",
              "          const docLinkHtml = 'Like what you see? Visit the ' +\n",
              "            '<a target=\"_blank\" href=https://colab.research.google.com/notebooks/data_table.ipynb>data table notebook</a>'\n",
              "            + ' to learn more about interactive tables.';\n",
              "          element.innerHTML = '';\n",
              "          dataTable['output_type'] = 'display_data';\n",
              "          await google.colab.output.renderOutput(dataTable, element);\n",
              "          const docLink = document.createElement('div');\n",
              "          docLink.innerHTML = docLinkHtml;\n",
              "          element.appendChild(docLink);\n",
              "        }\n",
              "      </script>\n",
              "    </div>\n",
              "  </div>\n",
              "  "
            ]
          },
          "metadata": {},
          "execution_count": 81
        }
      ]
    },
    {
      "cell_type": "markdown",
      "source": [
        "**data preprocessing**"
      ],
      "metadata": {
        "id": "c30Yu4WlmKKP"
      }
    },
    {
      "cell_type": "code",
      "source": [
        "# Check for missing values\n",
        "print(df.isnull().sum())"
      ],
      "metadata": {
        "colab": {
          "base_uri": "https://localhost:8080/"
        },
        "id": "zSehoJM-lSAB",
        "outputId": "2b176db8-8da4-4bb3-be4a-451d303022a4"
      },
      "execution_count": null,
      "outputs": [
        {
          "output_type": "stream",
          "name": "stdout",
          "text": [
            "InvoiceNo           0\n",
            "StockCode           0\n",
            "Description      1475\n",
            "Quantity            0\n",
            "InvoiceDate         1\n",
            "UnitPrice           2\n",
            "CustomerID     141247\n",
            "Country             4\n",
            "dtype: int64\n"
          ]
        }
      ]
    },
    {
      "cell_type": "code",
      "source": [
        "# Remove rows with missing values\n",
        "df = df.dropna()"
      ],
      "metadata": {
        "id": "LLUH1Ix3lyFm"
      },
      "execution_count": null,
      "outputs": []
    },
    {
      "cell_type": "code",
      "source": [
        "# Remove duplicate rows\n",
        "df = df.drop_duplicates()"
      ],
      "metadata": {
        "id": "aYokbX9Sl4Vu"
      },
      "execution_count": null,
      "outputs": []
    },
    {
      "cell_type": "code",
      "source": [
        "# Check the dataset after preprocessing\n",
        "print(df.info())"
      ],
      "metadata": {
        "colab": {
          "base_uri": "https://localhost:8080/"
        },
        "id": "X7sWKGWll62p",
        "outputId": "cb1b1a6f-6c75-4ba4-f1c5-1ac879e2f3d1"
      },
      "execution_count": null,
      "outputs": [
        {
          "output_type": "stream",
          "name": "stdout",
          "text": [
            "<class 'pandas.core.frame.DataFrame'>\n",
            "Int64Index: 407990 entries, 0 to 554543\n",
            "Data columns (total 8 columns):\n",
            " #   Column       Non-Null Count   Dtype \n",
            "---  ------       --------------   ----- \n",
            " 0   InvoiceNo    407990 non-null  object\n",
            " 1   StockCode    407990 non-null  object\n",
            " 2   Description  407990 non-null  object\n",
            " 3   Quantity     407990 non-null  object\n",
            " 4   InvoiceDate  407990 non-null  object\n",
            " 5   UnitPrice    407990 non-null  object\n",
            " 6   CustomerID   407990 non-null  object\n",
            " 7   Country      407990 non-null  object\n",
            "dtypes: object(8)\n",
            "memory usage: 28.0+ MB\n",
            "None\n"
          ]
        }
      ]
    },
    {
      "cell_type": "markdown",
      "source": [
        "**Customer analysis**"
      ],
      "metadata": {
        "id": "aLFKEBQ1mQpT"
      }
    },
    {
      "cell_type": "code",
      "source": [
        "# Convert 'Quantity' and 'UnitPrice' columns to numeric types\n",
        "df['Quantity'] = pd.to_numeric(df['Quantity'], errors='coerce')\n",
        "df['UnitPrice'] = pd.to_numeric(df['UnitPrice'], errors='coerce')\n",
        "\n",
        "# Calculate the 'TotalRevenue' column\n",
        "df['TotalRevenue'] = df['Quantity'] * df['UnitPrice']\n",
        "\n",
        "# Calculate the total revenue\n",
        "total_revenue = df['TotalRevenue'].sum()\n",
        "\n",
        "# Print the total revenue\n",
        "print('Total Revenue:', total_revenue)\n"
      ],
      "metadata": {
        "colab": {
          "base_uri": "https://localhost:8080/"
        },
        "id": "djkbSNNO2uk3",
        "outputId": "e5d28b68-d6e5-4ad9-8461-340c01d69fc0"
      },
      "execution_count": null,
      "outputs": [
        {
          "output_type": "stream",
          "name": "stdout",
          "text": [
            "Total Revenue: 8459935.344000002\n"
          ]
        }
      ]
    },
    {
      "cell_type": "code",
      "source": [
        "df.head()"
      ],
      "metadata": {
        "colab": {
          "base_uri": "https://localhost:8080/",
          "height": 206
        },
        "id": "wiKeUcev3-Kb",
        "outputId": "917d91fe-8c3a-4ed7-c6dd-b1505f3e9d78"
      },
      "execution_count": null,
      "outputs": [
        {
          "output_type": "execute_result",
          "data": {
            "text/plain": [
              "  InvoiceNo StockCode                          Description  Quantity  \\\n",
              "0    536365    85123A   WHITE HANGING HEART T-LIGHT HOLDER         6   \n",
              "1    536365     71053                  WHITE METAL LANTERN         6   \n",
              "2    536365    84406B       CREAM CUPID HEARTS COAT HANGER         8   \n",
              "3    536365    84029G  KNITTED UNION FLAG HOT WATER BOTTLE         6   \n",
              "4    536365    84029E       RED WOOLLY HOTTIE WHITE HEART.         6   \n",
              "\n",
              "      InvoiceDate  UnitPrice CustomerID         Country  TotalRevenue  \n",
              "0  12/1/2010 8:26       2.55    17850.0  United Kingdom         15.30  \n",
              "1  12/1/2010 8:26       3.39    17850.0  United Kingdom         20.34  \n",
              "2  12/1/2010 8:26       2.75    17850.0  United Kingdom         22.00  \n",
              "3  12/1/2010 8:26       3.39    17850.0  United Kingdom         20.34  \n",
              "4  12/1/2010 8:26       3.39    17850.0  United Kingdom         20.34  "
            ],
            "text/html": [
              "\n",
              "  <div id=\"df-e56672ea-e930-42b9-a463-0fe5dbfe36a3\">\n",
              "    <div class=\"colab-df-container\">\n",
              "      <div>\n",
              "<style scoped>\n",
              "    .dataframe tbody tr th:only-of-type {\n",
              "        vertical-align: middle;\n",
              "    }\n",
              "\n",
              "    .dataframe tbody tr th {\n",
              "        vertical-align: top;\n",
              "    }\n",
              "\n",
              "    .dataframe thead th {\n",
              "        text-align: right;\n",
              "    }\n",
              "</style>\n",
              "<table border=\"1\" class=\"dataframe\">\n",
              "  <thead>\n",
              "    <tr style=\"text-align: right;\">\n",
              "      <th></th>\n",
              "      <th>InvoiceNo</th>\n",
              "      <th>StockCode</th>\n",
              "      <th>Description</th>\n",
              "      <th>Quantity</th>\n",
              "      <th>InvoiceDate</th>\n",
              "      <th>UnitPrice</th>\n",
              "      <th>CustomerID</th>\n",
              "      <th>Country</th>\n",
              "      <th>TotalRevenue</th>\n",
              "    </tr>\n",
              "  </thead>\n",
              "  <tbody>\n",
              "    <tr>\n",
              "      <th>0</th>\n",
              "      <td>536365</td>\n",
              "      <td>85123A</td>\n",
              "      <td>WHITE HANGING HEART T-LIGHT HOLDER</td>\n",
              "      <td>6</td>\n",
              "      <td>12/1/2010 8:26</td>\n",
              "      <td>2.55</td>\n",
              "      <td>17850.0</td>\n",
              "      <td>United Kingdom</td>\n",
              "      <td>15.30</td>\n",
              "    </tr>\n",
              "    <tr>\n",
              "      <th>1</th>\n",
              "      <td>536365</td>\n",
              "      <td>71053</td>\n",
              "      <td>WHITE METAL LANTERN</td>\n",
              "      <td>6</td>\n",
              "      <td>12/1/2010 8:26</td>\n",
              "      <td>3.39</td>\n",
              "      <td>17850.0</td>\n",
              "      <td>United Kingdom</td>\n",
              "      <td>20.34</td>\n",
              "    </tr>\n",
              "    <tr>\n",
              "      <th>2</th>\n",
              "      <td>536365</td>\n",
              "      <td>84406B</td>\n",
              "      <td>CREAM CUPID HEARTS COAT HANGER</td>\n",
              "      <td>8</td>\n",
              "      <td>12/1/2010 8:26</td>\n",
              "      <td>2.75</td>\n",
              "      <td>17850.0</td>\n",
              "      <td>United Kingdom</td>\n",
              "      <td>22.00</td>\n",
              "    </tr>\n",
              "    <tr>\n",
              "      <th>3</th>\n",
              "      <td>536365</td>\n",
              "      <td>84029G</td>\n",
              "      <td>KNITTED UNION FLAG HOT WATER BOTTLE</td>\n",
              "      <td>6</td>\n",
              "      <td>12/1/2010 8:26</td>\n",
              "      <td>3.39</td>\n",
              "      <td>17850.0</td>\n",
              "      <td>United Kingdom</td>\n",
              "      <td>20.34</td>\n",
              "    </tr>\n",
              "    <tr>\n",
              "      <th>4</th>\n",
              "      <td>536365</td>\n",
              "      <td>84029E</td>\n",
              "      <td>RED WOOLLY HOTTIE WHITE HEART.</td>\n",
              "      <td>6</td>\n",
              "      <td>12/1/2010 8:26</td>\n",
              "      <td>3.39</td>\n",
              "      <td>17850.0</td>\n",
              "      <td>United Kingdom</td>\n",
              "      <td>20.34</td>\n",
              "    </tr>\n",
              "  </tbody>\n",
              "</table>\n",
              "</div>\n",
              "      <button class=\"colab-df-convert\" onclick=\"convertToInteractive('df-e56672ea-e930-42b9-a463-0fe5dbfe36a3')\"\n",
              "              title=\"Convert this dataframe to an interactive table.\"\n",
              "              style=\"display:none;\">\n",
              "        \n",
              "  <svg xmlns=\"http://www.w3.org/2000/svg\" height=\"24px\"viewBox=\"0 0 24 24\"\n",
              "       width=\"24px\">\n",
              "    <path d=\"M0 0h24v24H0V0z\" fill=\"none\"/>\n",
              "    <path d=\"M18.56 5.44l.94 2.06.94-2.06 2.06-.94-2.06-.94-.94-2.06-.94 2.06-2.06.94zm-11 1L8.5 8.5l.94-2.06 2.06-.94-2.06-.94L8.5 2.5l-.94 2.06-2.06.94zm10 10l.94 2.06.94-2.06 2.06-.94-2.06-.94-.94-2.06-.94 2.06-2.06.94z\"/><path d=\"M17.41 7.96l-1.37-1.37c-.4-.4-.92-.59-1.43-.59-.52 0-1.04.2-1.43.59L10.3 9.45l-7.72 7.72c-.78.78-.78 2.05 0 2.83L4 21.41c.39.39.9.59 1.41.59.51 0 1.02-.2 1.41-.59l7.78-7.78 2.81-2.81c.8-.78.8-2.07 0-2.86zM5.41 20L4 18.59l7.72-7.72 1.47 1.35L5.41 20z\"/>\n",
              "  </svg>\n",
              "      </button>\n",
              "      \n",
              "  <style>\n",
              "    .colab-df-container {\n",
              "      display:flex;\n",
              "      flex-wrap:wrap;\n",
              "      gap: 12px;\n",
              "    }\n",
              "\n",
              "    .colab-df-convert {\n",
              "      background-color: #E8F0FE;\n",
              "      border: none;\n",
              "      border-radius: 50%;\n",
              "      cursor: pointer;\n",
              "      display: none;\n",
              "      fill: #1967D2;\n",
              "      height: 32px;\n",
              "      padding: 0 0 0 0;\n",
              "      width: 32px;\n",
              "    }\n",
              "\n",
              "    .colab-df-convert:hover {\n",
              "      background-color: #E2EBFA;\n",
              "      box-shadow: 0px 1px 2px rgba(60, 64, 67, 0.3), 0px 1px 3px 1px rgba(60, 64, 67, 0.15);\n",
              "      fill: #174EA6;\n",
              "    }\n",
              "\n",
              "    [theme=dark] .colab-df-convert {\n",
              "      background-color: #3B4455;\n",
              "      fill: #D2E3FC;\n",
              "    }\n",
              "\n",
              "    [theme=dark] .colab-df-convert:hover {\n",
              "      background-color: #434B5C;\n",
              "      box-shadow: 0px 1px 3px 1px rgba(0, 0, 0, 0.15);\n",
              "      filter: drop-shadow(0px 1px 2px rgba(0, 0, 0, 0.3));\n",
              "      fill: #FFFFFF;\n",
              "    }\n",
              "  </style>\n",
              "\n",
              "      <script>\n",
              "        const buttonEl =\n",
              "          document.querySelector('#df-e56672ea-e930-42b9-a463-0fe5dbfe36a3 button.colab-df-convert');\n",
              "        buttonEl.style.display =\n",
              "          google.colab.kernel.accessAllowed ? 'block' : 'none';\n",
              "\n",
              "        async function convertToInteractive(key) {\n",
              "          const element = document.querySelector('#df-e56672ea-e930-42b9-a463-0fe5dbfe36a3');\n",
              "          const dataTable =\n",
              "            await google.colab.kernel.invokeFunction('convertToInteractive',\n",
              "                                                     [key], {});\n",
              "          if (!dataTable) return;\n",
              "\n",
              "          const docLinkHtml = 'Like what you see? Visit the ' +\n",
              "            '<a target=\"_blank\" href=https://colab.research.google.com/notebooks/data_table.ipynb>data table notebook</a>'\n",
              "            + ' to learn more about interactive tables.';\n",
              "          element.innerHTML = '';\n",
              "          dataTable['output_type'] = 'display_data';\n",
              "          await google.colab.output.renderOutput(dataTable, element);\n",
              "          const docLink = document.createElement('div');\n",
              "          docLink.innerHTML = docLinkHtml;\n",
              "          element.appendChild(docLink);\n",
              "        }\n",
              "      </script>\n",
              "    </div>\n",
              "  </div>\n",
              "  "
            ]
          },
          "metadata": {},
          "execution_count": 87
        }
      ]
    },
    {
      "cell_type": "code",
      "source": [
        "# Identify top customers\n",
        "top_customers = df.groupby('CustomerID')['TotalRevenue'].sum().nlargest(10)\n",
        "print('Top Customers:')\n",
        "print(top_customers)"
      ],
      "metadata": {
        "colab": {
          "base_uri": "https://localhost:8080/"
        },
        "id": "WwDx-el3l_0r",
        "outputId": "d4a70b65-1867-4d5a-820b-a260857fbdba"
      },
      "execution_count": null,
      "outputs": [
        {
          "output_type": "stream",
          "name": "stdout",
          "text": [
            "Top Customers:\n",
            "CustomerID\n",
            "14646.0    248144.68\n",
            "18102.0    244507.01\n",
            "17450.0    186354.55\n",
            "14911.0    130155.35\n",
            "14156.0     98419.89\n",
            "12415.0     86133.01\n",
            "17511.0     81038.13\n",
            "14096.0     57120.91\n",
            "16684.0     56972.00\n",
            "13694.0     54234.46\n",
            "Name: TotalRevenue, dtype: float64\n"
          ]
        }
      ]
    },
    {
      "cell_type": "code",
      "source": [
        "# Analyze customer purchasing patterns\n",
        "df['InvoiceDate'] = pd.to_datetime(df['InvoiceDate'])\n",
        "df['InvoiceMonth'] = df['InvoiceDate'].dt.to_period('M')\n",
        "customer_purchases = df.groupby('CustomerID')['InvoiceMonth'].nunique()\n",
        "print('Customer Purchasing Patterns:')\n",
        "print(customer_purchases)"
      ],
      "metadata": {
        "colab": {
          "base_uri": "https://localhost:8080/"
        },
        "id": "ZXlKnBOlmEgQ",
        "outputId": "225422dd-c132-4401-d3ce-9a4dba22a8a9"
      },
      "execution_count": null,
      "outputs": [
        {
          "output_type": "stream",
          "name": "stdout",
          "text": [
            "Customer Purchasing Patterns:\n",
            "CustomerID\n",
            "12346.0    1\n",
            "12347.0    7\n",
            "12348.0    4\n",
            "12349.0    1\n",
            "12352.0    3\n",
            "          ..\n",
            "18256      1\n",
            "18257      2\n",
            "18260      1\n",
            "18280      1\n",
            "18283      2\n",
            "Name: InvoiceMonth, Length: 5557, dtype: int64\n"
          ]
        }
      ]
    },
    {
      "cell_type": "markdown",
      "source": [
        "**product analysis**"
      ],
      "metadata": {
        "id": "g3wy4cQxmXo5"
      }
    },
    {
      "cell_type": "code",
      "source": [
        "# Identify top-selling products\n",
        "top_products = df.groupby('Description')['Quantity'].sum().nlargest(10)\n",
        "print('Top Selling Products:')\n",
        "print(top_products)"
      ],
      "metadata": {
        "colab": {
          "base_uri": "https://localhost:8080/"
        },
        "id": "MWNEEpBrmE_z",
        "outputId": "39afa82e-6775-40e8-95aa-d1e886c9a4dc"
      },
      "execution_count": null,
      "outputs": [
        {
          "output_type": "stream",
          "name": "stdout",
          "text": [
            "Top Selling Products:\n",
            "Description\n",
            "WORLD WAR 2 GLIDERS ASSTD DESIGNS     53407\n",
            "JUMBO BAG RED RETROSPOT               45239\n",
            "WHITE HANGING HEART T-LIGHT HOLDER    37656\n",
            "ASSORTED COLOUR BIRD ORNAMENT         35698\n",
            "PACK OF 72 RETROSPOT CAKE CASES       34091\n",
            "POPCORN HOLDER                        30492\n",
            "RABBIT NIGHT LIGHT                    27045\n",
            "MINI PAINT SET VINTAGE                26132\n",
            "PACK OF 12 LONDON TISSUES             25402\n",
            "PACK OF 60 PINK PAISLEY CAKE CASES    24277\n",
            "Name: Quantity, dtype: int64\n"
          ]
        }
      ]
    },
    {
      "cell_type": "code",
      "source": [
        "# Analyze product performance by category\n",
        "product_category_sales = df.groupby('Country')['TotalRevenue'].sum()\n",
        "print('Product Category Sales:')\n",
        "print(product_category_sales)"
      ],
      "metadata": {
        "colab": {
          "base_uri": "https://localhost:8080/"
        },
        "id": "VUz_hWsMmcq0",
        "outputId": "15f15295-bd41-45e8-9d35-9729e1086ad8"
      },
      "execution_count": null,
      "outputs": [
        {
          "output_type": "stream",
          "name": "stdout",
          "text": [
            "Product Category Sales:\n",
            "Country\n",
            "Australia                138162.170\n",
            "Austria                   10154.320\n",
            "Bahrain                     548.400\n",
            "Belgium                   41562.120\n",
            "Brazil                     1143.600\n",
            "Canada                     3666.380\n",
            "Channel Islands           20076.390\n",
            "Cyprus                    13406.260\n",
            "Czech Republic              707.720\n",
            "Denmark                   18768.140\n",
            "EIRE                     267500.080\n",
            "European Community         1291.750\n",
            "Finland                   22326.740\n",
            "France                   203305.000\n",
            "Germany                  225300.450\n",
            "Greece                     4710.520\n",
            "Iceland                    4310.000\n",
            "Israel                     6988.400\n",
            "Italy                     18499.170\n",
            "Japan                     35340.620\n",
            "Lebanon                    1693.880\n",
            "Lithuania                  1661.060\n",
            "Malta                      2505.470\n",
            "Netherlands              295050.600\n",
            "Norway                    35163.460\n",
            "Poland                     7826.360\n",
            "Portugal                  31953.860\n",
            "RSA                        1002.310\n",
            "Saudi Arabia                131.170\n",
            "Singapore                  9120.390\n",
            "Spain                     61717.230\n",
            "Sweden                    36585.410\n",
            "Switzerland               55739.400\n",
            "USA                        1730.920\n",
            "United Arab Emirates       1902.280\n",
            "United Kingdom          6875722.544\n",
            "Unspecified                2660.770\n",
            "Name: TotalRevenue, dtype: float64\n"
          ]
        }
      ]
    },
    {
      "cell_type": "code",
      "source": [
        "# Calculate return rates or customer complaints\n",
        "return_rates = df[df['Quantity'] < 0].groupby('Description')['Quantity'].count() / df.groupby('Description')['Quantity'].count()\n",
        "print('Return Rates or Customer Complaints:')\n",
        "print(return_rates)"
      ],
      "metadata": {
        "colab": {
          "base_uri": "https://localhost:8080/"
        },
        "id": "vmsKgwMRme0L",
        "outputId": "d11a1a67-720c-47e6-bc5f-6908abe60aab"
      },
      "execution_count": null,
      "outputs": [
        {
          "output_type": "stream",
          "name": "stdout",
          "text": [
            "Return Rates or Customer Complaints:\n",
            "Description\n",
            " 4 PURPLE FLOCK DINNER CANDLES           NaN\n",
            " 50'S CHRISTMAS GIFT BAG LARGE      0.009091\n",
            " DOLLY GIRL BEAKER                  0.014599\n",
            " I LOVE LONDON MINI BACKPACK             NaN\n",
            " I LOVE LONDON MINI RUCKSACK             NaN\n",
            "                                      ...   \n",
            "ZINC T-LIGHT HOLDER STARS SMALL     0.012448\n",
            "ZINC TOP  2 DOOR WOODEN SHELF       0.166667\n",
            "ZINC WILLIE WINKIE  CANDLE STICK    0.005102\n",
            "ZINC WIRE KITCHEN ORGANISER              NaN\n",
            "ZINC WIRE SWEETHEART LETTER TRAY         NaN\n",
            "Name: Quantity, Length: 3896, dtype: float64\n"
          ]
        }
      ]
    },
    {
      "cell_type": "markdown",
      "source": [
        "**Sales analysis**"
      ],
      "metadata": {
        "id": "t5IyOR1MnnfK"
      }
    },
    {
      "cell_type": "code",
      "source": [
        "# Analyze sales trends over time\n",
        "sales_trends = df.groupby('InvoiceMonth')['TotalRevenue'].sum()\n",
        "print('Sales Trends Over Time:')\n",
        "print(sales_trends)"
      ],
      "metadata": {
        "colab": {
          "base_uri": "https://localhost:8080/"
        },
        "id": "TYfE8RKKmgQe",
        "outputId": "799536e3-6191-4104-b0cb-a66b8eb1bc08"
      },
      "execution_count": null,
      "outputs": [
        {
          "output_type": "stream",
          "name": "stdout",
          "text": [
            "Sales Trends Over Time:\n",
            "InvoiceMonth\n",
            "2010-12     552348.760\n",
            "2011-01     655171.920\n",
            "2011-02     435534.070\n",
            "2011-03     578576.210\n",
            "2011-04     425222.671\n",
            "2011-05     647011.670\n",
            "2011-06     606862.520\n",
            "2011-07     573112.321\n",
            "2011-08     615078.090\n",
            "2011-09     929356.232\n",
            "2011-10     973306.380\n",
            "2011-11    1126815.070\n",
            "2011-12     341539.430\n",
            "Freq: M, Name: TotalRevenue, dtype: float64\n"
          ]
        }
      ]
    },
    {
      "cell_type": "code",
      "source": [
        "# Identify seasonal trends in sales\n",
        "monthly_sales = df.groupby('InvoiceMonth')['TotalRevenue'].sum()\n",
        "monthly_sales.plot(kind='line', xlabel='Month', ylabel='Revenue', title='Monthly Sales Trends')"
      ],
      "metadata": {
        "colab": {
          "base_uri": "https://localhost:8080/",
          "height": 505
        },
        "id": "x2RbLNOentLa",
        "outputId": "4e4f2c9c-a579-4e38-f092-a0db6a3ba24a"
      },
      "execution_count": null,
      "outputs": [
        {
          "output_type": "execute_result",
          "data": {
            "text/plain": [
              "<Axes: title={'center': 'Monthly Sales Trends'}, xlabel='Month', ylabel='Revenue'>"
            ]
          },
          "metadata": {},
          "execution_count": 94
        },
        {
          "output_type": "display_data",
          "data": {
            "text/plain": [
              "<Figure size 640x480 with 1 Axes>"
            ],
            "image/png": "[encoded data removed]"
          },
          "metadata": {}
        }
      ]
    },
    {
      "cell_type": "markdown",
      "source": [
        "The provided code calculates and shows the \"Discount Effect on Sales\" based on the applied discount. Here's a breakdown of what the code does:\n",
        "\n",
        "* It applies a discount to the sales data based on the quantity by price ratio.\n",
        "* The lambda function checks the value of the 'QuantityPriceRatio' for each row in the dataframe.\n",
        "* If the 'QuantityPriceRatio' is greater than 0.60, it applies a 10% discount to the 'TotalRevenue' by multiplying it by 0.9.\n",
        "* If the 'QuantityPriceRatio' is less than or equal to 0.60, no discount is applied, and the 'TotalRevenue' remains unchanged.\n",
        "* The discounted sales are calculated by summing the 'DiscountedTotalRevenue' column.\n",
        "* The total sales are calculated by summing the 'TotalRevenue' column.\n",
        "* The discount effect on sales is determined by dividing the discounted sales by the total sales.\n",
        "* The result, the \"Discount Effect on Sales,\" is printed.\n",
        "\n",
        "This allows you to analyze the impact of the applied discount on the overall sales, specifically when the quantity by price ratio is greater than 0.60."
      ],
      "metadata": {
        "id": "Obv4Xvx_sSkI"
      }
    },
    {
      "cell_type": "code",
      "source": [
        "# Calculate the quantity by price ratio\n",
        "df['QuantityPriceRatio'] = df['Quantity'] / df['UnitPrice']\n",
        "# Apply discount based on the quantity by price ratio\n",
        "df['DiscountedTotalRevenue'] = df.apply(lambda row: row['TotalRevenue'] * 0.9 if row['QuantityPriceRatio'] > 0.60 else row['TotalRevenue'], axis=1)\n",
        "\n",
        "# Calculate the total discounted sales\n",
        "discounted_sales = df['DiscountedTotalRevenue'].sum()\n",
        "\n",
        "# Calculate the total sales\n",
        "total_sales = df['TotalRevenue'].sum()\n",
        "\n",
        "# Calculate the discount effect on sales\n",
        "discount_effect = discounted_sales / total_sales\n",
        "\n",
        "print('Discount Effect on Sales:', discount_effect)\n"
      ],
      "metadata": {
        "colab": {
          "base_uri": "https://localhost:8080/"
        },
        "id": "i0ZrBIf3rys3",
        "outputId": "e2dd651f-80b8-4231-8b4d-e1e34f3ce8ab"
      },
      "execution_count": null,
      "outputs": [
        {
          "output_type": "stream",
          "name": "stdout",
          "text": [
            "Discount Effect on Sales: 0.905279079116328\n"
          ]
        }
      ]
    },
    {
      "cell_type": "markdown",
      "source": [
        "**Market basket analysis**"
      ],
      "metadata": {
        "id": "y2HYNHL6tBvV"
      }
    },
    {
      "cell_type": "code",
      "source": [
        "from mlxtend.frequent_patterns import apriori\n",
        "\n",
        "# Perform market basket analysis\n",
        "basket = (df.groupby(['InvoiceNo', 'Description'])['Quantity']\n",
        "          .sum().unstack().reset_index().fillna(0)\n",
        "          .set_index('InvoiceNo'))\n",
        "\n",
        "def encode_units(x):\n",
        "    if x <= 0:\n",
        "        return 0\n",
        "    if x >= 1:\n",
        "        return 1\n",
        "\n",
        "basket_sets = basket.applymap(encode_units)\n",
        "\n",
        "frequent_itemsets = apriori(basket_sets, min_support=0.05, use_colnames=True)\n",
        "\n",
        "# Filter and print frequent itemsets with minimum support\n",
        "min_support = 0.06\n",
        "frequent_itemsets = frequent_itemsets[frequent_itemsets['support'] >= min_support]\n",
        "print('Frequent Itemsets:')\n",
        "print(frequent_itemsets)\n"
      ],
      "metadata": {
        "colab": {
          "base_uri": "https://localhost:8080/"
        },
        "id": "px7VeBAtAMKP",
        "outputId": "1d640b59-f9fd-4554-a417-3592c390e20a"
      },
      "execution_count": null,
      "outputs": [
        {
          "output_type": "stream",
          "name": "stdout",
          "text": [
            "Frequent Itemsets:\n",
            "    support                              itemsets\n",
            "0  0.061965       (ASSORTED COLOUR BIRD ORNAMENT)\n",
            "1  0.072105             (JUMBO BAG RED RETROSPOT)\n",
            "3  0.062190                       (PARTY BUNTING)\n",
            "4  0.076791            (REGENCY CAKESTAND 3 TIER)\n",
            "6  0.088824  (WHITE HANGING HEART T-LIGHT HOLDER)\n"
          ]
        }
      ]
    },
    {
      "cell_type": "code",
      "source": [],
      "metadata": {
        "id": "ZQX1Y_fSAMNa"
      },
      "execution_count": null,
      "outputs": []
    },
    {
      "cell_type": "code",
      "source": [],
      "metadata": {
        "id": "_s8SrQS8AMRT"
      },
      "execution_count": null,
      "outputs": []
    },
    {
      "cell_type": "code",
      "source": [],
      "metadata": {
        "id": "R3xxoak7-yRP"
      },
      "execution_count": null,
      "outputs": []
    },
    {
      "cell_type": "code",
      "source": [
        "from statsmodels.tsa.statespace.sarimax import SARIMAX\n",
        "from sklearn.metrics import mean_squared_error\n",
        "\n",
        "# Prepare data for time series forecasting\n",
        "sales_data = df.groupby('InvoiceDate')['TotalRevenue'].sum()\n",
        "\n",
        "# Split data into training and testing sets\n",
        "train_size = int(len(sales_data) * 0.8)\n",
        "train_data, test_data = sales_data[:train_size], sales_data[train_size:]\n",
        "\n",
        "# Fit SARIMA model\n",
        "model = SARIMAX(train_data, order=(1, 1, 1), seasonal_order=(1, 1, 1, 12))\n",
        "model_fit = model.fit()\n",
        "\n",
        "# Forecast future sales\n",
        "forecast = model_fit.predict(start=len(train_data), end=len(train_data) + len(test_data) - 1)\n",
        "\n",
        "# Calculate mean squared error\n",
        "mse = mean_squared_error(test_data, forecast)\n",
        "\n",
        "print('Time Series Forecasting (SARIMA) Results:')\n",
        "print('Mean Squared Error:', mse)\n",
        "\n",
        "# Print forecasted sales\n",
        "print('Forecasted Sales:')\n",
        "print(forecast)\n",
        "\n",
        "# Print actual sales\n",
        "print('Actual Sales:')\n",
        "print(test_data)\n"
      ],
      "metadata": {
        "colab": {
          "base_uri": "https://localhost:8080/"
        },
        "id": "SD8y64qVBJAQ",
        "outputId": "be45b572-6f63-4e19-de61-d9118ea75815"
      },
      "execution_count": null,
      "outputs": [
        {
          "output_type": "stream",
          "name": "stdout",
          "text": [
            "Time Series Forecasting (SARIMA) Results:\n",
            "Mean Squared Error: 14471216.18451712\n",
            "Forecasted Sales:\n",
            "16368    499.809617\n",
            "16369    507.184097\n",
            "16370    471.144693\n",
            "16371    520.986486\n",
            "16372    463.574228\n",
            "            ...    \n",
            "20455    526.573620\n",
            "20456    546.691767\n",
            "20457    530.393328\n",
            "20458    546.662506\n",
            "20459    567.725348\n",
            "Name: predicted_mean, Length: 4092, dtype: float64\n",
            "Actual Sales:\n",
            "InvoiceDate\n",
            "2011-10-24 14:29:00    454.20\n",
            "2011-10-24 14:35:00    262.70\n",
            "2011-10-24 14:36:00    499.97\n",
            "2011-10-24 14:47:00    313.40\n",
            "2011-10-24 14:49:00    237.60\n",
            "                        ...  \n",
            "2011-12-09 12:23:00    124.60\n",
            "2011-12-09 12:25:00    140.64\n",
            "2011-12-09 12:31:00    329.05\n",
            "2011-12-09 12:49:00    339.20\n",
            "2011-12-09 12:50:00    249.45\n",
            "Name: TotalRevenue, Length: 4092, dtype: float64\n"
          ]
        }
      ]
    },
    {
      "cell_type": "code",
      "source": [],
      "metadata": {
        "id": "Z_yZqsjy-xC8"
      },
      "execution_count": null,
      "outputs": []
    },
    {
      "cell_type": "markdown",
      "source": [
        "**Customer segmentation**"
      ],
      "metadata": {
        "id": "_zWUNjWGtTyI"
      }
    },
    {
      "cell_type": "code",
      "source": [
        "from sklearn.cluster import KMeans\n",
        "\n",
        "# Perform customer segmentation using K-means clustering\n",
        "customer_data = df.groupby('CustomerID').agg({'TotalRevenue': 'sum', 'InvoiceNo': 'nunique', 'Quantity': 'sum'})\n",
        "\n",
        "kmeans = KMeans(n_clusters=4, random_state=0).fit(customer_data)\n",
        "\n",
        "customer_data['Segment'] = kmeans.labels_\n",
        "segment_counts = customer_data['Segment'].value_counts()\n",
        "print('Customer Segmentation:')\n",
        "print(segment_counts)"
      ],
      "metadata": {
        "id": "AxTIAx_vtOG0",
        "colab": {
          "base_uri": "https://localhost:8080/"
        },
        "outputId": "30dd8653-793e-4fce-930d-205d402ba474"
      },
      "execution_count": null,
      "outputs": [
        {
          "output_type": "stream",
          "name": "stdout",
          "text": [
            "Customer Segmentation:\n",
            "0    5342\n",
            "3     189\n",
            "2      22\n",
            "1       4\n",
            "Name: Segment, dtype: int64\n"
          ]
        }
      ]
    },
    {
      "cell_type": "markdown",
      "source": [
        "RFM Analysis: RFM (Recency, Frequency, Monetary) analysis is a technique used for customer segmentation based on their purchasing behavior. It assigns a score to each customer based on the recency of their last purchase, the frequency of purchases, and the monetary value of purchases. You can use RFM analysis to segment customers into different groups and analyze their characteristics and preferences."
      ],
      "metadata": {
        "id": "Kl68_KHIZx-a"
      }
    },
    {
      "cell_type": "markdown",
      "source": [
        "**RMF**"
      ],
      "metadata": {
        "id": "F_Qk_NXYPzs2"
      }
    },
    {
      "cell_type": "code",
      "source": [
        "import pandas as pd\n",
        "\n",
        "# Perform RFM Analysis\n",
        "recency = df.groupby('CustomerID')['InvoiceDate'].max()\n",
        "frequency = df.groupby('CustomerID')['InvoiceNo'].nunique()\n",
        "monetary = df.groupby('CustomerID')['TotalRevenue'].sum()\n",
        "\n",
        "rfm_data = pd.concat([recency, frequency, monetary], axis=1)\n",
        "rfm_data.columns = ['Recency', 'Frequency', 'Monetary']\n",
        "\n",
        "# Perform RFM segmentation\n",
        "# Customize the thresholds and labels based on your specific dataset\n",
        "rfm_data['RecencyScore'] = pd.qcut(rfm_data['Recency'], q=4, labels=[4, 3, 2, 1])\n",
        "rfm_data['FrequencyScore'] = pd.qcut(rfm_data['Frequency'], q=4, labels=False, duplicates='drop')\n",
        "rfm_data['MonetaryScore'] = pd.qcut(rfm_data['Monetary'], q=4, labels=[1, 2, 3, 4])\n",
        "\n",
        "# Calculate RFM score\n",
        "rfm_data['RFM_Score'] = rfm_data['RecencyScore'].astype(str) + rfm_data['FrequencyScore'].astype(str) + rfm_data['MonetaryScore'].astype(str)\n",
        "\n",
        "# Print RFM segments\n",
        "print('RFM Segments:')\n",
        "print(rfm_data['RFM_Score'].value_counts())\n"
      ],
      "metadata": {
        "id": "mmtFpNMwZYji",
        "colab": {
          "base_uri": "https://localhost:8080/"
        },
        "outputId": "5ae5e1e1-f6e0-4365-a23b-a53f9622942d"
      },
      "execution_count": null,
      "outputs": [
        {
          "output_type": "stream",
          "name": "stdout",
          "text": [
            "RFM Segments:\n",
            "124    646\n",
            "401    549\n",
            "402    415\n",
            "301    399\n",
            "302    347\n",
            "224    267\n",
            "202    259\n",
            "201    233\n",
            "303    190\n",
            "213    186\n",
            "403    185\n",
            "203    160\n",
            "113    153\n",
            "313    127\n",
            "101    126\n",
            "102    120\n",
            "123    110\n",
            "223     90\n",
            "324     80\n",
            "114     74\n",
            "214     73\n",
            "103     71\n",
            "312     68\n",
            "212     61\n",
            "413     52\n",
            "304     51\n",
            "112     47\n",
            "404     47\n",
            "323     45\n",
            "314     40\n",
            "424     37\n",
            "204     31\n",
            "412     31\n",
            "414     28\n",
            "311     26\n",
            "423     20\n",
            "211     17\n",
            "104     15\n",
            "111     13\n",
            "322     12\n",
            "411     11\n",
            "222     10\n",
            "122     10\n",
            "422      9\n",
            "421      6\n",
            "121      4\n",
            "321      4\n",
            "221      2\n",
            "Name: RFM_Score, dtype: int64\n"
          ]
        }
      ]
    },
    {
      "cell_type": "code",
      "source": [],
      "metadata": {
        "id": "X1YJ3WvrM-nG"
      },
      "execution_count": null,
      "outputs": []
    },
    {
      "cell_type": "markdown",
      "source": [
        "*churn prediction*"
      ],
      "metadata": {
        "id": "sHrU8kQ7M--o"
      }
    },
    {
      "cell_type": "code",
      "source": [
        "from sklearn.model_selection import train_test_split\n",
        "from sklearn.linear_model import LogisticRegression\n",
        "from sklearn.metrics import accuracy_score, confusion_matrix\n",
        "\n",
        "# Prepare data for churn prediction\n",
        "churn_data = df.groupby('CustomerID').agg({\n",
        "    'TotalRevenue': 'sum',\n",
        "    'InvoiceNo': 'nunique',\n",
        "    'Quantity': 'sum',\n",
        "    'InvoiceDate': 'max'\n",
        "})\n",
        "\n",
        "churn_data['Churn'] = (df['InvoiceDate'].max() - churn_data['InvoiceDate']) > pd.Timedelta(days=365)\n",
        "churn_data = churn_data.drop('InvoiceDate', axis=1)\n",
        "\n",
        "# Split data into training and testing sets\n",
        "X = churn_data.drop('Churn', axis=1)\n",
        "y = churn_data['Churn']\n",
        "X_train, X_test, y_train, y_test = train_test_split(X, y, test_size=0.2, random_state=42)\n",
        "\n",
        "# Train a logistic regression model for churn prediction\n",
        "logreg = LogisticRegression()\n",
        "logreg.fit(X_train, y_train)\n",
        "\n",
        "# Predict churn on the test set\n",
        "y_pred = logreg.predict(X_test)\n",
        "\n",
        "# Evaluate model performance\n",
        "accuracy = accuracy_score(y_test, y_pred)\n",
        "confusion_mat = confusion_matrix(y_test, y_pred)\n",
        "\n",
        "print('Churn Prediction Results:')\n",
        "print('Accuracy:', accuracy)\n",
        "print('Confusion Matrix:')\n",
        "print(confusion_mat)"
      ],
      "metadata": {
        "id": "SrSiPzELaBiP",
        "colab": {
          "base_uri": "https://localhost:8080/"
        },
        "outputId": "ea25b6de-5894-4cc1-d8fe-c76a02744a2a"
      },
      "execution_count": null,
      "outputs": [
        {
          "output_type": "stream",
          "name": "stdout",
          "text": [
            "Churn Prediction Results:\n",
            "Accuracy: 0.9784172661870504\n",
            "Confusion Matrix:\n",
            "[[1088    0]\n",
            " [  24    0]]\n"
          ]
        }
      ]
    },
    {
      "cell_type": "markdown",
      "source": [
        "**Visualization**"
      ],
      "metadata": {
        "id": "BCdTUs9ktcJv"
      }
    },
    {
      "cell_type": "code",
      "source": [
        "import matplotlib.pyplot as plt\n",
        "\n",
        "# Visualize sales trends over time\n",
        "sales_trends.plot(kind='line', xlabel='Month', ylabel='Revenue', title='Monthly Sales Trends')\n",
        "plt.show()"
      ],
      "metadata": {
        "id": "8Gf91RqAthPk",
        "colab": {
          "base_uri": "https://localhost:8080/",
          "height": 488
        },
        "outputId": "5246161e-1c52-44e6-e5bf-e24b405598b3"
      },
      "execution_count": null,
      "outputs": [
        {
          "output_type": "display_data",
          "data": {
            "text/plain": [
              "<Figure size 640x480 with 1 Axes>"
            ],
            "image/png": "[encoded data removed]"
          },
          "metadata": {}
        }
      ]
    },
    {
      "cell_type": "code",
      "source": [
        "# Visualize top-selling products\n",
        "top_products.plot(kind='barh', xlabel='Quantity', ylabel='Product', title='Top Selling Products')\n",
        "plt.show()"
      ],
      "metadata": {
        "id": "Fi9dZRlptkYj",
        "colab": {
          "base_uri": "https://localhost:8080/",
          "height": 472
        },
        "outputId": "5c42abe8-10b1-4bfc-9f10-25828db03d1b"
      },
      "execution_count": null,
      "outputs": [
        {
          "output_type": "display_data",
          "data": {
            "text/plain": [
              "<Figure size 640x480 with 1 Axes>"
            ],
            "image/png": "[encoded data removed]"
          },
          "metadata": {}
        }
      ]
    },
    {
      "cell_type": "code",
      "source": [
        "# Visualize product category sales\n",
        "product_category_sales.plot(kind='bar', xlabel='Category', ylabel='Revenue', title='Product Category Sales')\n",
        "plt.show()\n"
      ],
      "metadata": {
        "id": "D5Zh7tLGtqzg",
        "colab": {
          "base_uri": "https://localhost:8080/",
          "height": 609
        },
        "outputId": "7c668adc-be24-48ad-f855-3a64b4909dcf"
      },
      "execution_count": null,
      "outputs": [
        {
          "output_type": "display_data",
          "data": {
            "text/plain": [
              "<Figure size 640x480 with 1 Axes>"
            ],
            "image/png": "[encoded data removed]"
          },
          "metadata": {}
        }
      ]
    },
    {
      "cell_type": "markdown",
      "source": [
        "\n",
        "\n",
        "\n",
        "**Linear regression**"
      ],
      "metadata": {
        "id": "mNfcGm6JXVD_"
      }
    },
    {
      "cell_type": "code",
      "source": [
        "from sklearn.linear_model import LinearRegression\n",
        "\n",
        "# Linear Regression for Revenue Prediction\n",
        "X_revenue = df[['TotalRevenue']]\n",
        "y_revenue = df['Quantity']\n",
        "\n",
        "linear_regression = LinearRegression()\n",
        "linear_regression.fit(X_revenue, y_revenue)\n",
        "\n",
        "# Predict revenue using Linear Regression\n",
        "predicted_revenue = linear_regression.predict(X_revenue)\n",
        "\n",
        "# Add predicted revenue to the DataFrame\n",
        "df['PredictedRevenue'] = predicted_revenue\n",
        "\n",
        "# Display the updated DataFrame\n",
        "print(df.head())\n",
        "#predicting the predicted revenue"
      ],
      "metadata": {
        "id": "9Mky8OvvVRy3",
        "colab": {
          "base_uri": "https://localhost:8080/"
        },
        "outputId": "dba6f108-ff45-4111-b7c3-2f1f2abe815b"
      },
      "execution_count": null,
      "outputs": [
        {
          "output_type": "stream",
          "name": "stdout",
          "text": [
            "  InvoiceNo StockCode                          Description  Quantity  \\\n",
            "0    536365    85123A   WHITE HANGING HEART T-LIGHT HOLDER         6   \n",
            "1    536365     71053                  WHITE METAL LANTERN         6   \n",
            "2    536365    84406B       CREAM CUPID HEARTS COAT HANGER         8   \n",
            "3    536365    84029G  KNITTED UNION FLAG HOT WATER BOTTLE         6   \n",
            "4    536365    84029E       RED WOOLLY HOTTIE WHITE HEART.         6   \n",
            "\n",
            "          InvoiceDate  UnitPrice CustomerID         Country  TotalRevenue  \\\n",
            "0 2010-12-01 08:26:00       2.55    17850.0  United Kingdom         15.30   \n",
            "1 2010-12-01 08:26:00       3.39    17850.0  United Kingdom         20.34   \n",
            "2 2010-12-01 08:26:00       2.75    17850.0  United Kingdom         22.00   \n",
            "3 2010-12-01 08:26:00       3.39    17850.0  United Kingdom         20.34   \n",
            "4 2010-12-01 08:26:00       3.39    17850.0  United Kingdom         20.34   \n",
            "\n",
            "  InvoiceMonth  QuantityPriceRatio  DiscountedTotalRevenue  PredictedRevenue  \n",
            "0      2010-12            2.352941                  13.770          9.004583  \n",
            "1      2010-12            1.769912                  18.306         11.985921  \n",
            "2      2010-12            2.909091                  19.800         12.967870  \n",
            "3      2010-12            1.769912                  18.306         11.985921  \n",
            "4      2010-12            1.769912                  18.306         11.985921  \n"
          ]
        }
      ]
    },
    {
      "cell_type": "code",
      "source": [
        "df.head()"
      ],
      "metadata": {
        "id": "gXGo2lYXVWW9",
        "colab": {
          "base_uri": "https://localhost:8080/",
          "height": 458
        },
        "outputId": "753cb3a7-7913-47d5-eef5-981cdcf4ba6a"
      },
      "execution_count": null,
      "outputs": [
        {
          "output_type": "execute_result",
          "data": {
            "text/plain": [
              "  InvoiceNo StockCode                          Description  Quantity  \\\n",
              "0    536365    85123A   WHITE HANGING HEART T-LIGHT HOLDER         6   \n",
              "1    536365     71053                  WHITE METAL LANTERN         6   \n",
              "2    536365    84406B       CREAM CUPID HEARTS COAT HANGER         8   \n",
              "3    536365    84029G  KNITTED UNION FLAG HOT WATER BOTTLE         6   \n",
              "4    536365    84029E       RED WOOLLY HOTTIE WHITE HEART.         6   \n",
              "\n",
              "          InvoiceDate  UnitPrice CustomerID         Country  TotalRevenue  \\\n",
              "0 2010-12-01 08:26:00       2.55    17850.0  United Kingdom         15.30   \n",
              "1 2010-12-01 08:26:00       3.39    17850.0  United Kingdom         20.34   \n",
              "2 2010-12-01 08:26:00       2.75    17850.0  United Kingdom         22.00   \n",
              "3 2010-12-01 08:26:00       3.39    17850.0  United Kingdom         20.34   \n",
              "4 2010-12-01 08:26:00       3.39    17850.0  United Kingdom         20.34   \n",
              "\n",
              "  InvoiceMonth  QuantityPriceRatio  DiscountedTotalRevenue  PredictedRevenue  \n",
              "0      2010-12            2.352941                  13.770          9.004583  \n",
              "1      2010-12            1.769912                  18.306         11.985921  \n",
              "2      2010-12            2.909091                  19.800         12.967870  \n",
              "3      2010-12            1.769912                  18.306         11.985921  \n",
              "4      2010-12            1.769912                  18.306         11.985921  "
            ],
            "text/html": [
              "\n",
              "  <div id=\"df-a4051ee3-4e40-44d5-b526-7144180eb0bb\">\n",
              "    <div class=\"colab-df-container\">\n",
              "      <div>\n",
              "<style scoped>\n",
              "    .dataframe tbody tr th:only-of-type {\n",
              "        vertical-align: middle;\n",
              "    }\n",
              "\n",
              "    .dataframe tbody tr th {\n",
              "        vertical-align: top;\n",
              "    }\n",
              "\n",
              "    .dataframe thead th {\n",
              "        text-align: right;\n",
              "    }\n",
              "</style>\n",
              "<table border=\"1\" class=\"dataframe\">\n",
              "  <thead>\n",
              "    <tr style=\"text-align: right;\">\n",
              "      <th></th>\n",
              "      <th>InvoiceNo</th>\n",
              "      <th>StockCode</th>\n",
              "      <th>Description</th>\n",
              "      <th>Quantity</th>\n",
              "      <th>InvoiceDate</th>\n",
              "      <th>UnitPrice</th>\n",
              "      <th>CustomerID</th>\n",
              "      <th>Country</th>\n",
              "      <th>TotalRevenue</th>\n",
              "      <th>InvoiceMonth</th>\n",
              "      <th>QuantityPriceRatio</th>\n",
              "      <th>DiscountedTotalRevenue</th>\n",
              "      <th>PredictedRevenue</th>\n",
              "    </tr>\n",
              "  </thead>\n",
              "  <tbody>\n",
              "    <tr>\n",
              "      <th>0</th>\n",
              "      <td>536365</td>\n",
              "      <td>85123A</td>\n",
              "      <td>WHITE HANGING HEART T-LIGHT HOLDER</td>\n",
              "      <td>6</td>\n",
              "      <td>2010-12-01 08:26:00</td>\n",
              "      <td>2.55</td>\n",
              "      <td>17850.0</td>\n",
              "      <td>United Kingdom</td>\n",
              "      <td>15.30</td>\n",
              "      <td>2010-12</td>\n",
              "      <td>2.352941</td>\n",
              "      <td>13.770</td>\n",
              "      <td>9.004583</td>\n",
              "    </tr>\n",
              "    <tr>\n",
              "      <th>1</th>\n",
              "      <td>536365</td>\n",
              "      <td>71053</td>\n",
              "      <td>WHITE METAL LANTERN</td>\n",
              "      <td>6</td>\n",
              "      <td>2010-12-01 08:26:00</td>\n",
              "      <td>3.39</td>\n",
              "      <td>17850.0</td>\n",
              "      <td>United Kingdom</td>\n",
              "      <td>20.34</td>\n",
              "      <td>2010-12</td>\n",
              "      <td>1.769912</td>\n",
              "      <td>18.306</td>\n",
              "      <td>11.985921</td>\n",
              "    </tr>\n",
              "    <tr>\n",
              "      <th>2</th>\n",
              "      <td>536365</td>\n",
              "      <td>84406B</td>\n",
              "      <td>CREAM CUPID HEARTS COAT HANGER</td>\n",
              "      <td>8</td>\n",
              "      <td>2010-12-01 08:26:00</td>\n",
              "      <td>2.75</td>\n",
              "      <td>17850.0</td>\n",
              "      <td>United Kingdom</td>\n",
              "      <td>22.00</td>\n",
              "      <td>2010-12</td>\n",
              "      <td>2.909091</td>\n",
              "      <td>19.800</td>\n",
              "      <td>12.967870</td>\n",
              "    </tr>\n",
              "    <tr>\n",
              "      <th>3</th>\n",
              "      <td>536365</td>\n",
              "      <td>84029G</td>\n",
              "      <td>KNITTED UNION FLAG HOT WATER BOTTLE</td>\n",
              "      <td>6</td>\n",
              "      <td>2010-12-01 08:26:00</td>\n",
              "      <td>3.39</td>\n",
              "      <td>17850.0</td>\n",
              "      <td>United Kingdom</td>\n",
              "      <td>20.34</td>\n",
              "      <td>2010-12</td>\n",
              "      <td>1.769912</td>\n",
              "      <td>18.306</td>\n",
              "      <td>11.985921</td>\n",
              "    </tr>\n",
              "    <tr>\n",
              "      <th>4</th>\n",
              "      <td>536365</td>\n",
              "      <td>84029E</td>\n",
              "      <td>RED WOOLLY HOTTIE WHITE HEART.</td>\n",
              "      <td>6</td>\n",
              "      <td>2010-12-01 08:26:00</td>\n",
              "      <td>3.39</td>\n",
              "      <td>17850.0</td>\n",
              "      <td>United Kingdom</td>\n",
              "      <td>20.34</td>\n",
              "      <td>2010-12</td>\n",
              "      <td>1.769912</td>\n",
              "      <td>18.306</td>\n",
              "      <td>11.985921</td>\n",
              "    </tr>\n",
              "  </tbody>\n",
              "</table>\n",
              "</div>\n",
              "      <button class=\"colab-df-convert\" onclick=\"convertToInteractive('df-a4051ee3-4e40-44d5-b526-7144180eb0bb')\"\n",
              "              title=\"Convert this dataframe to an interactive table.\"\n",
              "              style=\"display:none;\">\n",
              "        \n",
              "  <svg xmlns=\"http://www.w3.org/2000/svg\" height=\"24px\"viewBox=\"0 0 24 24\"\n",
              "       width=\"24px\">\n",
              "    <path d=\"M0 0h24v24H0V0z\" fill=\"none\"/>\n",
              "    <path d=\"M18.56 5.44l.94 2.06.94-2.06 2.06-.94-2.06-.94-.94-2.06-.94 2.06-2.06.94zm-11 1L8.5 8.5l.94-2.06 2.06-.94-2.06-.94L8.5 2.5l-.94 2.06-2.06.94zm10 10l.94 2.06.94-2.06 2.06-.94-2.06-.94-.94-2.06-.94 2.06-2.06.94z\"/><path d=\"M17.41 7.96l-1.37-1.37c-.4-.4-.92-.59-1.43-.59-.52 0-1.04.2-1.43.59L10.3 9.45l-7.72 7.72c-.78.78-.78 2.05 0 2.83L4 21.41c.39.39.9.59 1.41.59.51 0 1.02-.2 1.41-.59l7.78-7.78 2.81-2.81c.8-.78.8-2.07 0-2.86zM5.41 20L4 18.59l7.72-7.72 1.47 1.35L5.41 20z\"/>\n",
              "  </svg>\n",
              "      </button>\n",
              "      \n",
              "  <style>\n",
              "    .colab-df-container {\n",
              "      display:flex;\n",
              "      flex-wrap:wrap;\n",
              "      gap: 12px;\n",
              "    }\n",
              "\n",
              "    .colab-df-convert {\n",
              "      background-color: #E8F0FE;\n",
              "      border: none;\n",
              "      border-radius: 50%;\n",
              "      cursor: pointer;\n",
              "      display: none;\n",
              "      fill: #1967D2;\n",
              "      height: 32px;\n",
              "      padding: 0 0 0 0;\n",
              "      width: 32px;\n",
              "    }\n",
              "\n",
              "    .colab-df-convert:hover {\n",
              "      background-color: #E2EBFA;\n",
              "      box-shadow: 0px 1px 2px rgba(60, 64, 67, 0.3), 0px 1px 3px 1px rgba(60, 64, 67, 0.15);\n",
              "      fill: #174EA6;\n",
              "    }\n",
              "\n",
              "    [theme=dark] .colab-df-convert {\n",
              "      background-color: #3B4455;\n",
              "      fill: #D2E3FC;\n",
              "    }\n",
              "\n",
              "    [theme=dark] .colab-df-convert:hover {\n",
              "      background-color: #434B5C;\n",
              "      box-shadow: 0px 1px 3px 1px rgba(0, 0, 0, 0.15);\n",
              "      filter: drop-shadow(0px 1px 2px rgba(0, 0, 0, 0.3));\n",
              "      fill: #FFFFFF;\n",
              "    }\n",
              "  </style>\n",
              "\n",
              "      <script>\n",
              "        const buttonEl =\n",
              "          document.querySelector('#df-a4051ee3-4e40-44d5-b526-7144180eb0bb button.colab-df-convert');\n",
              "        buttonEl.style.display =\n",
              "          google.colab.kernel.accessAllowed ? 'block' : 'none';\n",
              "\n",
              "        async function convertToInteractive(key) {\n",
              "          const element = document.querySelector('#df-a4051ee3-4e40-44d5-b526-7144180eb0bb');\n",
              "          const dataTable =\n",
              "            await google.colab.kernel.invokeFunction('convertToInteractive',\n",
              "                                                     [key], {});\n",
              "          if (!dataTable) return;\n",
              "\n",
              "          const docLinkHtml = 'Like what you see? Visit the ' +\n",
              "            '<a target=\"_blank\" href=https://colab.research.google.com/notebooks/data_table.ipynb>data table notebook</a>'\n",
              "            + ' to learn more about interactive tables.';\n",
              "          element.innerHTML = '';\n",
              "          dataTable['output_type'] = 'display_data';\n",
              "          await google.colab.output.renderOutput(dataTable, element);\n",
              "          const docLink = document.createElement('div');\n",
              "          docLink.innerHTML = docLinkHtml;\n",
              "          element.appendChild(docLink);\n",
              "        }\n",
              "      </script>\n",
              "    </div>\n",
              "  </div>\n",
              "  "
            ]
          },
          "metadata": {},
          "execution_count": 105
        }
      ]
    },
    {
      "cell_type": "code",
      "source": [],
      "metadata": {
        "id": "8YA0IlsTHVDa"
      },
      "execution_count": null,
      "outputs": []
    }
  ]
}